{
 "cells": [
  {
   "cell_type": "code",
   "execution_count": 1,
   "id": "7361667a-3942-4e0b-85a5-bab73815f8c1",
   "metadata": {},
   "outputs": [
    {
     "name": "stdout",
     "output_type": "stream",
     "text": [
      "Mesh generation took 0.05040406109765172 seconds\n"
     ]
    }
   ],
   "source": [
    "# This demo implements the recursive linearization method.\n",
    "\n",
    "from IPython.display import clear_output\n",
    "from data_generator import DataGenerator\n",
    "from medium_generator import MediumGenerator, disk_func, cosine_func\n",
    "import numpy as np\n",
    "from numpy.linalg import lstsq\n",
    "from ngsolve import * \n",
    "from ngsolve.webgui import Draw\n",
    "import multiprocessing\n",
    "from joblib import Parallel, delayed\n",
    "import numpy as np\n",
    "import matplotlib.pyplot as plt\n",
    "import time\n",
    "\n",
    "dg = DataGenerator(maxh = (0.2, 0.4))\n",
    "\n",
    "n_process = 42 # deps on how many cores on your computer\n",
    "\n",
    "medium = MediumGenerator(cosine_func) # MediumGenerator(disk_func)\n",
    "\n",
    "background_params = [{\"type\": 0, \"x\": 0.0, \"y\": 0.0, \"r\": 0.5, \"v\": 0.0}]\n",
    "background_permittivity = medium.generate(background_params)\n",
    "\n",
    "params  = [{\"type\": 0, \"x\": 0.6 ,\"y\": 0.4, \"r\": 0.2, \"v\": 1}, \n",
    "           {\"type\": 0, \"x\": 0.7, \"y\": -0.6, \"r\": 0.3, \"v\": 1},\n",
    "           {\"type\": 0, \"x\": -0.8, \"y\": -0.3, \"r\": 0.4, \"v\": 1},\n",
    "           {\"type\": 0, \"x\": -0.5, \"y\": 0.7, \"r\": 0.5, \"v\": 1},\n",
    "           {\"type\": 0, \"x\": -0.6 ,\"y\": 0.2, \"r\": 0.6, \"v\": 1}, \n",
    "           {\"type\": 0, \"x\": -0.7, \"y\": -0.9, \"r\": 0.5, \"v\": 1},\n",
    "           {\"type\": 0, \"x\": -0.1, \"y\": -0.3, \"r\": 0.4, \"v\": 1},\n",
    "           {\"type\": 0, \"x\": -0.2, \"y\": 0.3, \"r\": 0.3, \"v\": 1}]\n",
    "\n",
    "permittivity  = medium.generate(params)\n"
   ]
  },
  {
   "cell_type": "code",
   "execution_count": 2,
   "id": "25a37886-7e4e-4282-9c2e-b0125534d585",
   "metadata": {},
   "outputs": [
    {
     "data": {
      "application/vnd.jupyter.widget-view+json": {
       "model_id": "f3d898b430764538b27f94a56ce86ab5",
       "version_major": 2,
       "version_minor": 0
      },
      "text/plain": [
       "WebGuiWidget(layout=Layout(height='50vh', width='100%'), value={'gui_settings': {}, 'ngsolve_version': '6.2.24…"
      ]
     },
     "metadata": {},
     "output_type": "display_data"
    },
    {
     "data": {
      "text/plain": [
       "BaseWebGuiScene"
      ]
     },
     "execution_count": 2,
     "metadata": {},
     "output_type": "execute_result"
    }
   ],
   "source": [
    "Draw(permittivity, dg.mesh)"
   ]
  },
  {
   "cell_type": "code",
   "execution_count": 3,
   "id": "83740b52-02b5-4aa7-90cc-b96a4a87613d",
   "metadata": {},
   "outputs": [],
   "source": [
    "def single_loop(i, bp, freq, inc_dir, out_dir):        \n",
    "    mat = []\n",
    "    vec = []\n",
    "    \n",
    "    kx = 2 * pi * freq * cos(inc_dir[i])\n",
    "    ky = 2 * pi * freq * sin(inc_dir[i])\n",
    "\n",
    "    psi = CF((exp(1j * kx * x) * exp(1j * ky * y)))\n",
    "\n",
    "    u_scat = dg.solve(kx, ky, permittivity)\n",
    "    \n",
    "    uB_scat_psi = dg.solve(kx, ky, bp)\n",
    "\n",
    "\n",
    "    for j_angle in out_dir:\n",
    "        p_kx = 2 * pi * freq * cos(j_angle)\n",
    "        p_ky = 2 * pi * freq * sin(j_angle)\n",
    "\n",
    "        phi = CF((exp(1j * p_kx * x) * exp(1j * p_ky * y)))\n",
    "        \n",
    "        uB_scat_phi = dg.solve(p_kx, p_ky, bp)\n",
    "\n",
    "        true_val = Integrate( (permittivity - bp) * (uB_scat_phi + phi) *  (u_scat + psi) * (IfPos((x)**2 + (y)**2 - (1.5) **2, 0, 1)) , dg.mesh)\n",
    "\n",
    "        test_func = dg.fes.TestFunction()\n",
    "\n",
    "        linear_form = LinearForm(dg.fes)\n",
    "\n",
    "        linear_form += test_func * (uB_scat_phi + phi) *  (uB_scat_psi + psi) * (IfPos((x)**2 + (y)**2 - (1.5) **2,\n",
    "                    0,\n",
    "                    1))  * dx \n",
    "\n",
    "        linear_form.Assemble()\n",
    "            \n",
    "        mat.append(linear_form.vec.FV().NumPy())\n",
    "        vec.append(true_val)\n",
    "\n",
    "    return mat, vec\n",
    "\n",
    "def assemble_linear_sys(bp, freq, n_in_dir=16, n_out_dir=16):\n",
    "    A = Matrix(2 * n_in_dir * n_out_dir, dg.fes.ndof, complex=True)\n",
    "    b = Vector(2 * n_in_dir * n_out_dir, complex=True)\n",
    "\n",
    "    # incident and test directions are aligned to maximize the captured frequency domain\n",
    "    inc_dir = np.linspace(0, 2 * np.pi, n_in_dir, endpoint=False)\n",
    "    out_dir = np.linspace(0, 2 * np.pi, n_out_dir, endpoint=False)\n",
    "\n",
    "    start = time.time()\n",
    "    \n",
    "    with multiprocessing.Pool(n_process) as p:\n",
    "        tasks = [p.apply_async(single_loop, [i, bp, freq, inc_dir, out_dir]) for i in range(n_in_dir)]\n",
    "\n",
    "        finished = {}\n",
    "        \n",
    "        # postprocessing step\n",
    "        while len(finished) != len(tasks):\n",
    "            for i, task in enumerate(tasks):\n",
    "                if task.ready():\n",
    "                    finished[i] = task.get()\n",
    "                    for j in range(n_out_dir):\n",
    "                        index = i * n_out_dir + j\n",
    "                        A.NumPy()[2 * index, :]     = finished[i][0][j].real\n",
    "                        A.NumPy()[2 * index + 1, :] = finished[i][0][j].imag\n",
    "                        b[2 * index]        = finished[i][1][j].real\n",
    "                        b[2 * index + 1]    = finished[i][1][j].imag\n",
    "                    \n",
    "    end_time = time.time()\n",
    "\n",
    "    print('freq: {}, parallel time: {}'.format(freq, end_time - start))\n",
    "    \n",
    "    return A,  b\n",
    "\n"
   ]
  },
  {
   "cell_type": "code",
   "execution_count": 4,
   "id": "fb5fecfc-37a0-4c04-a416-8196f6bcb93c",
   "metadata": {},
   "outputs": [
    {
     "data": {
      "application/vnd.jupyter.widget-view+json": {
       "model_id": "489fb18da64f4cd2999031d250c910bf",
       "version_major": 2,
       "version_minor": 0
      },
      "text/plain": [
       "WebGuiWidget(layout=Layout(height='50vh', width='100%'), value={'gui_settings': {'Complex': {'phase': 0.0, 'sp…"
      ]
     },
     "metadata": {},
     "output_type": "display_data"
    },
    {
     "name": "stdout",
     "output_type": "stream",
     "text": [
      "iter:   19, freq:   2.00, error squared: 5.1324e-02, time:  14.22\n"
     ]
    }
   ],
   "source": [
    "freq = 0.0\n",
    "\n",
    "for iter in range(20):\n",
    "    start_time = time.time()\n",
    "    freq += 0.1\n",
    "    err = Integrate((background_permittivity-permittivity)*Conj(background_permittivity-permittivity), dg.mesh).real\n",
    "    \n",
    "    A, b = assemble_linear_sys(background_permittivity, freq, n_in_dir=16, n_out_dir=4)\n",
    "    \n",
    "    v = lstsq(A.NumPy(),  b.NumPy(), rcond=1e-2)[0]\n",
    "    \n",
    "    permittivity_update =  GridFunction(dg.fes)\n",
    "    permittivity_update.vec.data = v.real\n",
    "    background_permittivity = background_permittivity + permittivity_update\n",
    "    \n",
    "    end_time = time.time()\n",
    "    \n",
    "    scene = Draw(background_permittivity, dg.mesh)\n",
    "    clear_output() # redraw the scene with a new height\n",
    "    scene.Draw(height=\"50vh\")\n",
    "    \n",
    "    print('iter: {:4d}, freq: {:6.2f}, error squared: {:6.4e}, time: {:6.2f}'.format(iter, freq, err, end_time - start_time))"
   ]
  }
 ],
 "metadata": {
  "kernelspec": {
   "display_name": "Python 3 (ipykernel)",
   "language": "python",
   "name": "python3"
  },
  "language_info": {
   "codemirror_mode": {
    "name": "ipython",
    "version": 3
   },
   "file_extension": ".py",
   "mimetype": "text/x-python",
   "name": "python",
   "nbconvert_exporter": "python",
   "pygments_lexer": "ipython3",
   "version": "3.9.13"
  }
 },
 "nbformat": 4,
 "nbformat_minor": 5
}
