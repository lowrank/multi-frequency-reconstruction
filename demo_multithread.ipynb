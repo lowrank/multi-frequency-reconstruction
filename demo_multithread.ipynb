{
 "cells": [
  {
   "cell_type": "code",
   "execution_count": 1,
   "id": "7361667a-3942-4e0b-85a5-bab73815f8c1",
   "metadata": {},
   "outputs": [
    {
     "name": "stdout",
     "output_type": "stream",
     "text": [
      "Mesh generation took 0.1783189030829817 seconds\n"
     ]
    }
   ],
   "source": [
    "# This demo implements the recursive linearization method.\n",
    "\n",
    "from IPython.display import clear_output\n",
    "from data_generator import DataGenerator\n",
    "from medium_generator import MediumGenerator, disk_func, cosine_func\n",
    "import numpy as np\n",
    "from numpy.linalg import lstsq\n",
    "from ngsolve import * \n",
    "from ngsolve.webgui import Draw\n",
    "import multiprocessing\n",
    "from joblib import Parallel, delayed\n",
    "import numpy as np\n",
    "import matplotlib.pyplot as plt\n",
    "import time\n",
    "\n",
    "dg = DataGenerator(maxh = (0.1, 0.3))\n",
    "\n",
    "n_process = 42 # deps on how many cores on your computer\n",
    "\n",
    "medium = MediumGenerator(cosine_func) # MediumGenerator(disk_func)\n",
    "\n",
    "background_params = [{\"type\": 0, \"x\": 0.0, \"y\": 0.0, \"r\": 0.5, \"v\": 0.0}]\n",
    "background_permittivity = medium.generate(background_params)\n",
    "\n",
    "n_bumps = 8\n",
    "\n",
    "values = np.random.random((n_bumps, )) * 2 + 0.5\n",
    "\n",
    "r, theta, radius = np.sqrt(np.random.random((n_bumps, ))), \\\n",
    "                                     np.random.random((n_bumps, 1)) * 2 * np.pi, \\\n",
    "                                     np.random.random((n_bumps, 1)) * 0.1 + 0.3\n",
    "\n",
    "params = []\n",
    "\n",
    "for i in range(n_bumps):\n",
    "    params.append({\"type\": 0, \n",
    "                   \"x\": r[i] * np.cos(theta[i]),\n",
    "                   \"y\": r[i] * np.sin(theta[i]),\n",
    "                   \"r\": radius[i], \n",
    "                   \"v\": values[i]})\n",
    "\n",
    "permittivity  = medium.generate(params)\n",
    "\n",
    "# params  = [{\"type\": 0, \"x\": 0.6 ,\"y\": 0.4, \"r\": 0.2, \"v\": 1}, \n",
    "#            {\"type\": 0, \"x\": 0.7, \"y\": -0.6, \"r\": 0.3, \"v\": 1},\n",
    "#            {\"type\": 0, \"x\": -0.8, \"y\": -0.3, \"r\": 0.4, \"v\": 1},\n",
    "#            {\"type\": 0, \"x\": -0.5, \"y\": 0.7, \"r\": 0.5, \"v\": 1},\n",
    "#            {\"type\": 0, \"x\": -0.6 ,\"y\": 0.2, \"r\": 0.6, \"v\": 1}, \n",
    "#            {\"type\": 0, \"x\": -0.7, \"y\": -0.9, \"r\": 0.5, \"v\": 1},\n",
    "#            {\"type\": 0, \"x\": -0.1, \"y\": -0.3, \"r\": 0.4, \"v\": 1},\n",
    "#            {\"type\": 0, \"x\": -0.2, \"y\": 0.3, \"r\": 0.3, \"v\": 1}]\n",
    "\n",
    "# permittivity  = medium.generate(params)\n"
   ]
  },
  {
   "cell_type": "code",
   "execution_count": 2,
   "id": "25a37886-7e4e-4282-9c2e-b0125534d585",
   "metadata": {},
   "outputs": [
    {
     "data": {
      "application/vnd.jupyter.widget-view+json": {
       "model_id": "0d1ea6d0fe174745b62a759accf24637",
       "version_major": 2,
       "version_minor": 0
      },
      "text/plain": [
       "WebGuiWidget(layout=Layout(height='50vh', width='100%'), value={'gui_settings': {}, 'ngsolve_version': '6.2.24…"
      ]
     },
     "metadata": {},
     "output_type": "display_data"
    },
    {
     "data": {
      "text/plain": [
       "BaseWebGuiScene"
      ]
     },
     "execution_count": 2,
     "metadata": {},
     "output_type": "execute_result"
    }
   ],
   "source": [
    "Draw(permittivity, dg.mesh)"
   ]
  },
  {
   "cell_type": "code",
   "execution_count": 3,
   "id": "83740b52-02b5-4aa7-90cc-b96a4a87613d",
   "metadata": {},
   "outputs": [],
   "source": [
    "def single_loop(i, bp, freq, inc_dir, out_dir):        \n",
    "    mat = []\n",
    "    vec = []\n",
    "    \n",
    "    kx = 2 * pi * freq * cos(inc_dir[i])\n",
    "    ky = 2 * pi * freq * sin(inc_dir[i])\n",
    "\n",
    "    psi = CF((exp(1j * kx * x) * exp(1j * ky * y)))\n",
    "\n",
    "    u_scat = dg.solve(kx, ky, permittivity)\n",
    "    \n",
    "    uB_scat_psi = dg.solve(kx, ky, bp)\n",
    "\n",
    "\n",
    "    for j_angle in out_dir:\n",
    "        p_kx = 2 * pi * freq * cos(j_angle)\n",
    "        p_ky = 2 * pi * freq * sin(j_angle)\n",
    "\n",
    "        phi = CF((exp(1j * p_kx * x) * exp(1j * p_ky * y)))\n",
    "        \n",
    "        uB_scat_phi = dg.solve(p_kx, p_ky, bp)\n",
    "\n",
    "        true_val = Integrate( (permittivity - bp) * (uB_scat_phi + phi) *  (u_scat + psi) * (IfPos((x)**2 + (y)**2 - (1.5) **2, 0, 1)) , dg.mesh)\n",
    "\n",
    "        test_func = dg.fes.TestFunction()\n",
    "\n",
    "        linear_form = LinearForm(dg.fes)\n",
    "\n",
    "        linear_form += test_func * (uB_scat_phi + phi) *  (uB_scat_psi + psi) * (IfPos((x)**2 + (y)**2 - (1.5) **2,\n",
    "                    0,\n",
    "                    1))  * dx \n",
    "\n",
    "        linear_form.Assemble()\n",
    "            \n",
    "        mat.append(linear_form.vec.FV().NumPy())\n",
    "        vec.append(true_val)\n",
    "\n",
    "    return mat, vec\n",
    "\n",
    "def assemble_linear_sys(bp, freq, n_in_dir=16, n_out_dir=16):\n",
    "    A = Matrix(2 * n_in_dir * n_out_dir, dg.fes.ndof, complex=True)\n",
    "    b = Vector(2 * n_in_dir * n_out_dir, complex=True)\n",
    "\n",
    "    # incident and test directions are aligned to maximize the captured frequency domain\n",
    "    inc_dir = np.linspace(0, 2 * np.pi, n_in_dir, endpoint=False)\n",
    "    out_dir = np.linspace(0, 2 * np.pi, n_out_dir, endpoint=False)\n",
    "\n",
    "    start = time.time()\n",
    "    \n",
    "    with multiprocessing.Pool(n_process) as p:\n",
    "        tasks = [p.apply_async(single_loop, [i, bp, freq, inc_dir, out_dir]) for i in range(n_in_dir)]\n",
    "\n",
    "        finished = {}\n",
    "        \n",
    "        # postprocessing step\n",
    "        while len(finished) != len(tasks):\n",
    "            for i, task in enumerate(tasks):\n",
    "                if task.ready():\n",
    "                    finished[i] = task.get()\n",
    "                    for j in range(n_out_dir):\n",
    "                        index = i * n_out_dir + j\n",
    "                        A.NumPy()[2 * index, :]     = finished[i][0][j].real\n",
    "                        A.NumPy()[2 * index + 1, :] = finished[i][0][j].imag\n",
    "                        b[2 * index]        = finished[i][1][j].real\n",
    "                        b[2 * index + 1]    = finished[i][1][j].imag\n",
    "                    \n",
    "    end_time = time.time()\n",
    "\n",
    "    print('freq: {}, parallel time: {}'.format(freq, end_time - start))\n",
    "    \n",
    "    return A,  b\n",
    "\n"
   ]
  },
  {
   "cell_type": "code",
   "execution_count": 4,
   "id": "fb5fecfc-37a0-4c04-a416-8196f6bcb93c",
   "metadata": {},
   "outputs": [
    {
     "name": "stdout",
     "output_type": "stream",
     "text": [
      "freq: 0.1, parallel time: 45.0837926864624\n"
     ]
    },
    {
     "data": {
      "application/vnd.jupyter.widget-view+json": {
       "model_id": "2625ff898c614fe5852854500081b09b",
       "version_major": 2,
       "version_minor": 0
      },
      "text/plain": [
       "WebGuiWidget(layout=Layout(height='50vh', width='100%'), value={'gui_settings': {'Complex': {'phase': 0.0, 'sp…"
      ]
     },
     "metadata": {},
     "output_type": "display_data"
    },
    {
     "name": "stdout",
     "output_type": "stream",
     "text": [
      "iter:    0, freq:   0.10, error squared: 2.0911e+00, time:  54.12\n",
      "freq: 0.2, parallel time: 55.94345188140869\n"
     ]
    },
    {
     "data": {
      "application/vnd.jupyter.widget-view+json": {
       "model_id": "ad5489c308fa4e08846179e8a47b0491",
       "version_major": 2,
       "version_minor": 0
      },
      "text/plain": [
       "WebGuiWidget(layout=Layout(height='50vh', width='100%'), value={'gui_settings': {'Complex': {'phase': 0.0, 'sp…"
      ]
     },
     "metadata": {},
     "output_type": "display_data"
    },
    {
     "name": "stdout",
     "output_type": "stream",
     "text": [
      "iter:    1, freq:   0.20, error squared: 1.1995e+00, time:  65.75\n",
      "freq: 0.30000000000000004, parallel time: 63.20526742935181\n"
     ]
    },
    {
     "data": {
      "application/vnd.jupyter.widget-view+json": {
       "model_id": "8664bbdc80334d7eb33fbbd596585a24",
       "version_major": 2,
       "version_minor": 0
      },
      "text/plain": [
       "WebGuiWidget(layout=Layout(height='50vh', width='100%'), value={'gui_settings': {'Complex': {'phase': 0.0, 'sp…"
      ]
     },
     "metadata": {},
     "output_type": "display_data"
    },
    {
     "name": "stdout",
     "output_type": "stream",
     "text": [
      "iter:    2, freq:   0.30, error squared: 1.0972e+00, time:  71.38\n",
      "freq: 0.4, parallel time: 72.2467429637909\n"
     ]
    },
    {
     "data": {
      "application/vnd.jupyter.widget-view+json": {
       "model_id": "490f508537a24ee18f740b9ce760b5dc",
       "version_major": 2,
       "version_minor": 0
      },
      "text/plain": [
       "WebGuiWidget(layout=Layout(height='50vh', width='100%'), value={'gui_settings': {'Complex': {'phase': 0.0, 'sp…"
      ]
     },
     "metadata": {},
     "output_type": "display_data"
    },
    {
     "name": "stdout",
     "output_type": "stream",
     "text": [
      "iter:    3, freq:   0.40, error squared: 8.5698e-01, time:  80.39\n",
      "freq: 0.5, parallel time: 81.07706952095032\n"
     ]
    },
    {
     "data": {
      "application/vnd.jupyter.widget-view+json": {
       "model_id": "c550d8c80f7540fab45da3847630ce36",
       "version_major": 2,
       "version_minor": 0
      },
      "text/plain": [
       "WebGuiWidget(layout=Layout(height='50vh', width='100%'), value={'gui_settings': {'Complex': {'phase': 0.0, 'sp…"
      ]
     },
     "metadata": {},
     "output_type": "display_data"
    },
    {
     "name": "stdout",
     "output_type": "stream",
     "text": [
      "iter:    4, freq:   0.50, error squared: 6.0229e-01, time:  89.52\n",
      "freq: 0.6, parallel time: 90.63549375534058\n"
     ]
    },
    {
     "data": {
      "application/vnd.jupyter.widget-view+json": {
       "model_id": "d8866359b88b469fb33500d1b53f4865",
       "version_major": 2,
       "version_minor": 0
      },
      "text/plain": [
       "WebGuiWidget(layout=Layout(height='50vh', width='100%'), value={'gui_settings': {'Complex': {'phase': 0.0, 'sp…"
      ]
     },
     "metadata": {},
     "output_type": "display_data"
    },
    {
     "name": "stdout",
     "output_type": "stream",
     "text": [
      "iter:    5, freq:   0.60, error squared: 4.1742e-01, time:  98.68\n",
      "freq: 0.7, parallel time: 93.89552307128906\n"
     ]
    },
    {
     "data": {
      "application/vnd.jupyter.widget-view+json": {
       "model_id": "c7ac4f14431247df8f24191039ff3d87",
       "version_major": 2,
       "version_minor": 0
      },
      "text/plain": [
       "WebGuiWidget(layout=Layout(height='50vh', width='100%'), value={'gui_settings': {'Complex': {'phase': 0.0, 'sp…"
      ]
     },
     "metadata": {},
     "output_type": "display_data"
    },
    {
     "name": "stdout",
     "output_type": "stream",
     "text": [
      "iter:    6, freq:   0.70, error squared: 2.9700e-01, time:  97.55\n",
      "freq: 0.7999999999999999, parallel time: 100.1214964389801\n"
     ]
    },
    {
     "data": {
      "application/vnd.jupyter.widget-view+json": {
       "model_id": "a7c0c0622460466e9b271c4d0ceaf3bf",
       "version_major": 2,
       "version_minor": 0
      },
      "text/plain": [
       "WebGuiWidget(layout=Layout(height='50vh', width='100%'), value={'gui_settings': {'Complex': {'phase': 0.0, 'sp…"
      ]
     },
     "metadata": {},
     "output_type": "display_data"
    },
    {
     "name": "stdout",
     "output_type": "stream",
     "text": [
      "iter:    7, freq:   0.80, error squared: 2.7679e-01, time: 104.12\n",
      "freq: 0.8999999999999999, parallel time: 103.43753719329834\n"
     ]
    },
    {
     "data": {
      "application/vnd.jupyter.widget-view+json": {
       "model_id": "ae1774793c3445ae94e0bfa790d5f545",
       "version_major": 2,
       "version_minor": 0
      },
      "text/plain": [
       "WebGuiWidget(layout=Layout(height='50vh', width='100%'), value={'gui_settings': {'Complex': {'phase': 0.0, 'sp…"
      ]
     },
     "metadata": {},
     "output_type": "display_data"
    },
    {
     "name": "stdout",
     "output_type": "stream",
     "text": [
      "iter:    8, freq:   0.90, error squared: 1.3053e-01, time: 106.47\n",
      "freq: 0.9999999999999999, parallel time: 108.63588881492615\n"
     ]
    },
    {
     "data": {
      "application/vnd.jupyter.widget-view+json": {
       "model_id": "c135f3752b5f47d3a38a0a7f769ccc82",
       "version_major": 2,
       "version_minor": 0
      },
      "text/plain": [
       "WebGuiWidget(layout=Layout(height='50vh', width='100%'), value={'gui_settings': {'Complex': {'phase': 0.0, 'sp…"
      ]
     },
     "metadata": {},
     "output_type": "display_data"
    },
    {
     "name": "stdout",
     "output_type": "stream",
     "text": [
      "iter:    9, freq:   1.00, error squared: 8.0667e-02, time: 112.16\n",
      "freq: 1.0999999999999999, parallel time: 116.76038408279419\n"
     ]
    },
    {
     "data": {
      "application/vnd.jupyter.widget-view+json": {
       "model_id": "b3597493ef37400da38d54b8013cc995",
       "version_major": 2,
       "version_minor": 0
      },
      "text/plain": [
       "WebGuiWidget(layout=Layout(height='50vh', width='100%'), value={'gui_settings': {'Complex': {'phase': 0.0, 'sp…"
      ]
     },
     "metadata": {},
     "output_type": "display_data"
    },
    {
     "name": "stdout",
     "output_type": "stream",
     "text": [
      "iter:   10, freq:   1.10, error squared: 4.5802e-02, time: 120.36\n",
      "freq: 1.2, parallel time: 116.15297818183899\n"
     ]
    },
    {
     "data": {
      "application/vnd.jupyter.widget-view+json": {
       "model_id": "545e50cf639f4886a0dc4bbc18505b30",
       "version_major": 2,
       "version_minor": 0
      },
      "text/plain": [
       "WebGuiWidget(layout=Layout(height='50vh', width='100%'), value={'gui_settings': {'Complex': {'phase': 0.0, 'sp…"
      ]
     },
     "metadata": {},
     "output_type": "display_data"
    },
    {
     "name": "stdout",
     "output_type": "stream",
     "text": [
      "iter:   11, freq:   1.20, error squared: 2.8131e-02, time: 119.24\n",
      "freq: 1.3, parallel time: 128.28767800331116\n"
     ]
    },
    {
     "data": {
      "application/vnd.jupyter.widget-view+json": {
       "model_id": "7e24b2b91a894c61b7f2028b81c481ee",
       "version_major": 2,
       "version_minor": 0
      },
      "text/plain": [
       "WebGuiWidget(layout=Layout(height='50vh', width='100%'), value={'gui_settings': {'Complex': {'phase': 0.0, 'sp…"
      ]
     },
     "metadata": {},
     "output_type": "display_data"
    },
    {
     "name": "stdout",
     "output_type": "stream",
     "text": [
      "iter:   12, freq:   1.30, error squared: 1.8022e-02, time: 132.13\n",
      "freq: 1.4000000000000001, parallel time: 140.03593587875366\n"
     ]
    },
    {
     "data": {
      "application/vnd.jupyter.widget-view+json": {
       "model_id": "5bcae9e4f3b04ea49530a54492b3df7e",
       "version_major": 2,
       "version_minor": 0
      },
      "text/plain": [
       "WebGuiWidget(layout=Layout(height='50vh', width='100%'), value={'gui_settings': {'Complex': {'phase': 0.0, 'sp…"
      ]
     },
     "metadata": {},
     "output_type": "display_data"
    },
    {
     "name": "stdout",
     "output_type": "stream",
     "text": [
      "iter:   13, freq:   1.40, error squared: 1.3501e-02, time: 144.31\n",
      "freq: 1.5000000000000002, parallel time: 150.56934666633606\n"
     ]
    },
    {
     "data": {
      "application/vnd.jupyter.widget-view+json": {
       "model_id": "f8c2a02392b94d04a60b8467f85e2350",
       "version_major": 2,
       "version_minor": 0
      },
      "text/plain": [
       "WebGuiWidget(layout=Layout(height='50vh', width='100%'), value={'gui_settings': {'Complex': {'phase': 0.0, 'sp…"
      ]
     },
     "metadata": {},
     "output_type": "display_data"
    },
    {
     "name": "stdout",
     "output_type": "stream",
     "text": [
      "iter:   14, freq:   1.50, error squared: 1.2519e-02, time: 154.15\n",
      "freq: 1.6000000000000003, parallel time: 150.19148540496826\n"
     ]
    },
    {
     "data": {
      "application/vnd.jupyter.widget-view+json": {
       "model_id": "fa4e5f6896784793b504f83faab1e95e",
       "version_major": 2,
       "version_minor": 0
      },
      "text/plain": [
       "WebGuiWidget(layout=Layout(height='50vh', width='100%'), value={'gui_settings': {'Complex': {'phase': 0.0, 'sp…"
      ]
     },
     "metadata": {},
     "output_type": "display_data"
    },
    {
     "name": "stdout",
     "output_type": "stream",
     "text": [
      "iter:   15, freq:   1.60, error squared: 8.7638e-03, time: 153.81\n",
      "freq: 1.7000000000000004, parallel time: 156.74532103538513\n"
     ]
    },
    {
     "data": {
      "application/vnd.jupyter.widget-view+json": {
       "model_id": "5370de9a9c0742cf92fabe14584edba4",
       "version_major": 2,
       "version_minor": 0
      },
      "text/plain": [
       "WebGuiWidget(layout=Layout(height='50vh', width='100%'), value={'gui_settings': {'Complex': {'phase': 0.0, 'sp…"
      ]
     },
     "metadata": {},
     "output_type": "display_data"
    },
    {
     "name": "stdout",
     "output_type": "stream",
     "text": [
      "iter:   16, freq:   1.70, error squared: 6.2951e-03, time: 161.69\n",
      "freq: 1.8000000000000005, parallel time: 168.05234003067017\n"
     ]
    },
    {
     "data": {
      "application/vnd.jupyter.widget-view+json": {
       "model_id": "47d18771169745aa9c78b12af21b994f",
       "version_major": 2,
       "version_minor": 0
      },
      "text/plain": [
       "WebGuiWidget(layout=Layout(height='50vh', width='100%'), value={'gui_settings': {'Complex': {'phase': 0.0, 'sp…"
      ]
     },
     "metadata": {},
     "output_type": "display_data"
    },
    {
     "name": "stdout",
     "output_type": "stream",
     "text": [
      "iter:   17, freq:   1.80, error squared: 5.6795e-03, time: 172.49\n",
      "freq: 1.9000000000000006, parallel time: 177.33979678153992\n"
     ]
    },
    {
     "data": {
      "application/vnd.jupyter.widget-view+json": {
       "model_id": "a82c65236eec44bcb44d7e16d807a15f",
       "version_major": 2,
       "version_minor": 0
      },
      "text/plain": [
       "WebGuiWidget(layout=Layout(height='50vh', width='100%'), value={'gui_settings': {'Complex': {'phase': 0.0, 'sp…"
      ]
     },
     "metadata": {},
     "output_type": "display_data"
    },
    {
     "name": "stdout",
     "output_type": "stream",
     "text": [
      "iter:   18, freq:   1.90, error squared: 5.4712e-03, time: 180.45\n",
      "freq: 2.0000000000000004, parallel time: 179.16189193725586\n"
     ]
    },
    {
     "data": {
      "application/vnd.jupyter.widget-view+json": {
       "model_id": "c2b4af74bbe94300a929b2bbe19aecc4",
       "version_major": 2,
       "version_minor": 0
      },
      "text/plain": [
       "WebGuiWidget(layout=Layout(height='50vh', width='100%'), value={'gui_settings': {'Complex': {'phase': 0.0, 'sp…"
      ]
     },
     "metadata": {},
     "output_type": "display_data"
    },
    {
     "name": "stdout",
     "output_type": "stream",
     "text": [
      "iter:   19, freq:   2.00, error squared: 5.4417e-03, time: 183.95\n"
     ]
    }
   ],
   "source": [
    "freq = 0.0\n",
    "\n",
    "for iter in range(20):\n",
    "    start_time = time.time()\n",
    "    freq += 0.1\n",
    "    err = Integrate((background_permittivity-permittivity)*Conj(background_permittivity-permittivity), dg.mesh).real\n",
    "    \n",
    "    A, b = assemble_linear_sys(background_permittivity, freq, n_in_dir=32, n_out_dir=8)\n",
    "    \n",
    "    v = lstsq(A.NumPy(),  b.NumPy(), rcond=1e-2)[0]\n",
    "    \n",
    "    permittivity_update =  GridFunction(dg.fes)\n",
    "    permittivity_update.vec.data = v.real\n",
    "    background_permittivity = background_permittivity + permittivity_update\n",
    "    \n",
    "    end_time = time.time()\n",
    "    \n",
    "    scene = Draw(background_permittivity, dg.mesh)\n",
    "    # clear_output() # redraw the scene with a new height\n",
    "    # scene.Draw(height=\"50vh\")\n",
    "    \n",
    "    print('iter: {:4d}, freq: {:6.2f}, error squared: {:6.4e}, time: {:6.2f}'.format(iter, freq, err, end_time - start_time))"
   ]
  },
  {
   "cell_type": "code",
   "execution_count": null,
   "id": "77e60e15-3f26-41d7-a567-84dbbe6491cf",
   "metadata": {},
   "outputs": [],
   "source": []
  }
 ],
 "metadata": {
  "kernelspec": {
   "display_name": "Python 3 (ipykernel)",
   "language": "python",
   "name": "python3"
  },
  "language_info": {
   "codemirror_mode": {
    "name": "ipython",
    "version": 3
   },
   "file_extension": ".py",
   "mimetype": "text/x-python",
   "name": "python",
   "nbconvert_exporter": "python",
   "pygments_lexer": "ipython3",
   "version": "3.9.13"
  }
 },
 "nbformat": 4,
 "nbformat_minor": 5
}
