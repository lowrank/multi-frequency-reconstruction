{
 "cells": [
  {
   "cell_type": "code",
   "execution_count": null,
   "metadata": {},
   "outputs": [],
   "source": [
    "# This demo implements the recursive linearization method.\n",
    "\n",
    "from IPython.display import clear_output\n",
    "from data_generator import DataGenerator\n",
    "from medium_generator import MediumGenerator, disk_func, cosine_func\n",
    "import numpy as np\n",
    "from numpy.linalg import lstsq\n",
    "from ngsolve import * \n",
    "from ngsolve.webgui import Draw\n",
    "\n",
    "dg = DataGenerator(maxh = (0.1, 0.3))\n",
    "\n",
    "medium = MediumGenerator(cosine_func) # MediumGenerator(disk_func)\n",
    "\n",
    "background_params = [{\"type\": 0, \"x\": 0.0, \"y\": 0.0, \"r\": 0.5, \"v\": 0.0}]\n",
    "background_permittivity = medium.generate(background_params)\n",
    "\n",
    "params  = [{\"type\": 0, \"x\": 0.6 ,\"y\": 0.4, \"r\": 0.2, \"v\": 1}, \n",
    "           {\"type\": 0, \"x\": 0.7, \"y\": -0.6, \"r\": 0.3, \"v\": 1},\n",
    "           {\"type\": 0, \"x\": -0.8, \"y\": -0.3, \"r\": 0.4, \"v\": 1},\n",
    "           {\"type\": 0, \"x\": -0.5, \"y\": 0.7, \"r\": 0.5, \"v\": 1},\n",
    "           {\"type\": 0, \"x\": -0.6 ,\"y\": 0.2, \"r\": 0.6, \"v\": 1}, \n",
    "           {\"type\": 0, \"x\": -0.7, \"y\": -0.9, \"r\": 0.5, \"v\": 1},\n",
    "           {\"type\": 0, \"x\": -0.1, \"y\": -0.3, \"r\": 0.4, \"v\": 1},\n",
    "           {\"type\": 0, \"x\": -0.2, \"y\": 0.3, \"r\": 0.3, \"v\": 1}]\n",
    "\n",
    "\n",
    "# params  = [{\"type\": 0, \"x\": 0.6 ,\"y\": 0.4, \"r\": 0.3, \"v\": 1}, \n",
    "#            {\"type\": 0, \"x\": 0.7, \"y\": -0.6, \"r\": 0.3, \"v\": 2},\n",
    "#            {\"type\": 0, \"x\": -0.8, \"y\": -0.3, \"r\": 0.3, \"v\": 3},\n",
    "#            {\"type\": 0, \"x\": -0.5, \"y\": 0.5, \"r\": 0.3, \"v\": 4}]\n",
    "\n",
    "permittivity  = medium.generate(params)\n"
   ]
  },
  {
   "cell_type": "code",
   "execution_count": null,
   "metadata": {},
   "outputs": [],
   "source": [
    "# direction_angles = np.linspace(0, 2 * np.pi, 32, endpoint=False)\n",
    "\n",
    "# cauchy_data = dg.generate_cauchy_data(2 * pi, direction_angles, permittivity)"
   ]
  },
  {
   "cell_type": "code",
   "execution_count": null,
   "metadata": {},
   "outputs": [],
   "source": [
    "n_dir = 16\n",
    "\n",
    "direction_angles = np.linspace(0, 2 * np.pi, n_dir, endpoint=False)\n",
    "\n",
    "A = Matrix(2 * len(direction_angles) ** 2, dg.fes.ndof, complex=True)\n",
    "b = Vector(2 * len(direction_angles) ** 2, complex=True)\n",
    "\n",
    "freq = 0.0\n",
    "\n",
    "for iter in range(40):\n",
    "    print(iter)\n",
    "\n",
    "    l = 0\n",
    "    freq += 0.1\n",
    "\n",
    "    print(freq)\n",
    "    print('error squared:', Integrate((background_permittivity-permittivity)*Conj(background_permittivity-permittivity), dg.mesh).real)\n",
    "\n",
    "    # direction_angles += np.random.random()*2*np.pi\n",
    "\n",
    "    for i in range(n_dir):\n",
    "\n",
    "        kx = 2 * pi * freq * cos(direction_angles[i])\n",
    "        ky = 2 * pi * freq * sin(direction_angles[i])\n",
    "\n",
    "        psi = CF((exp(1j * kx * x) * exp(1j * ky * y)))\n",
    "\n",
    "        u_scat = dg.solve(kx, ky, permittivity)\n",
    "        uB_scat_psi = dg.solve(kx, ky, background_permittivity)\n",
    "        \n",
    "\n",
    "        for j in range(n_dir):\n",
    "            p_kx = 2 * pi * freq * cos(direction_angles[j])\n",
    "            p_ky = 2 * pi * freq * sin(direction_angles[j])\n",
    "\n",
    "            phi = CF((exp(1j * p_kx * x) * exp(1j * p_ky * y)))\n",
    "\n",
    "            uB_scat_phi = dg.solve(p_kx, p_ky, background_permittivity)\n",
    "\n",
    "            true_val = Integrate( (permittivity - background_permittivity) * (uB_scat_phi + phi) *  (u_scat + psi), dg.mesh)\n",
    "\n",
    "            test_func = dg.fes.TestFunction()\n",
    "\n",
    "            linear_form = LinearForm(dg.fes)\n",
    "\n",
    "            linear_form += test_func * (uB_scat_phi + phi) *  (uB_scat_psi + psi) * (IfPos((x)**2 + (y)**2 - (1.5) **2,0,1))  * dx \n",
    "\n",
    "            linear_form.Assemble()\n",
    "            \n",
    "\n",
    "            A.NumPy()[l, :] = linear_form.vec.FV().NumPy().real\n",
    "            A.NumPy()[l+1, :] = linear_form.vec.FV().NumPy().imag\n",
    "            b[l] = true_val.real\n",
    "            b[l+1] = true_val.imag\n",
    "            l += 2\n",
    "            \n",
    "    v = lstsq(A.NumPy(),  b.NumPy(), rcond=1e-2)[0]\n",
    "\n",
    "    permittivity_update =  GridFunction(dg.fes)\n",
    "    permittivity_update.vec.data = v.real\n",
    "    background_permittivity = background_permittivity + permittivity_update\n",
    "    \n",
    "    scene = Draw(background_permittivity, dg.mesh)\n",
    "    clear_output() # redraw the scene with a new height\n",
    "    scene.Draw(height=\"50vh\")"
   ]
  },
  {
   "cell_type": "code",
   "execution_count": null,
   "metadata": {},
   "outputs": [],
   "source": [
    "# error plot\n",
    "scene = Draw(background_permittivity-permittivity, dg.mesh)\n",
    "clear_output() # redraw the scene with a new height\n",
    "scene.Draw(height=\"50vh\")"
   ]
  },
  {
   "cell_type": "code",
   "execution_count": null,
   "metadata": {},
   "outputs": [],
   "source": [
    "# L2 error square\n",
    "Integrate((background_permittivity-permittivity)*Conj(background_permittivity-permittivity), dg.mesh)"
   ]
  },
  {
   "cell_type": "code",
   "execution_count": null,
   "metadata": {},
   "outputs": [],
   "source": []
  }
 ],
 "metadata": {
  "kernelspec": {
   "display_name": "Python 3 (ipykernel)",
   "language": "python",
   "name": "python3"
  },
  "language_info": {
   "codemirror_mode": {
    "name": "ipython",
    "version": 3
   },
   "file_extension": ".py",
   "mimetype": "text/x-python",
   "name": "python",
   "nbconvert_exporter": "python",
   "pygments_lexer": "ipython3",
   "version": "3.9.13"
  }
 },
 "nbformat": 4,
 "nbformat_minor": 4
}
