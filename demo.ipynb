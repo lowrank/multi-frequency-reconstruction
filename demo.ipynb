{
 "cells": [
  {
   "cell_type": "code",
   "execution_count": 1,
   "metadata": {},
   "outputs": [
    {
     "name": "stdout",
     "output_type": "stream",
     "text": [
      "Mesh generation took 6.05076428106986 seconds\n"
     ]
    }
   ],
   "source": [
    "from IPython.display import clear_output\n",
    "from data_generator import DataGenerator\n",
    "from medium_generator import MediumGenerator, disk_func, cosine_func\n",
    "import numpy as np\n",
    "from ngsolve import * \n",
    "from ngsolve.webgui import Draw\n",
    "\n",
    "dg = DataGenerator(maxh = (0.02, 0.04))\n",
    "\n",
    "medium = MediumGenerator(cosine_func) # MediumGenerator(disk_func)\n",
    "\n",
    "background_params = [{\"type\": 0, \"x\": 0.0, \"y\": 0.0, \"r\": 0.5, \"v\": 0.0}]\n",
    "background_permittivity = medium.generate(background_params)\n",
    "\n",
    "\n",
    "\n",
    "params  = [{\"type\": 0, \"x\": 0, \"y\": 0, \"r\": 0.5, \"v\": 1}]\n",
    "\n",
    "permittivity  = medium.generate(params)\n"
   ]
  },
  {
   "cell_type": "code",
   "execution_count": 2,
   "metadata": {},
   "outputs": [
    {
     "name": "stdout",
     "output_type": "stream",
     "text": [
      "Solving took 5.089801823953167 seconds\n"
     ]
    },
    {
     "ename": "KeyboardInterrupt",
     "evalue": "",
     "output_type": "error",
     "traceback": [
      "\u001b[0;31m---------------------------------------------------------------------------\u001b[0m",
      "\u001b[0;31mKeyboardInterrupt\u001b[0m                         Traceback (most recent call last)",
      "\u001b[0;32m/tmp/ipykernel_2136509/882814474.py\u001b[0m in \u001b[0;36m<module>\u001b[0;34m\u001b[0m\n\u001b[1;32m      1\u001b[0m \u001b[0mdirection_angles\u001b[0m \u001b[0;34m=\u001b[0m \u001b[0mnp\u001b[0m\u001b[0;34m.\u001b[0m\u001b[0mlinspace\u001b[0m\u001b[0;34m(\u001b[0m\u001b[0;36m0\u001b[0m\u001b[0;34m,\u001b[0m \u001b[0;36m2\u001b[0m \u001b[0;34m*\u001b[0m \u001b[0mnp\u001b[0m\u001b[0;34m.\u001b[0m\u001b[0mpi\u001b[0m\u001b[0;34m,\u001b[0m \u001b[0;36m32\u001b[0m\u001b[0;34m,\u001b[0m \u001b[0mendpoint\u001b[0m\u001b[0;34m=\u001b[0m\u001b[0;32mFalse\u001b[0m\u001b[0;34m)\u001b[0m\u001b[0;34m\u001b[0m\u001b[0;34m\u001b[0m\u001b[0m\n\u001b[1;32m      2\u001b[0m \u001b[0;34m\u001b[0m\u001b[0m\n\u001b[0;32m----> 3\u001b[0;31m \u001b[0mcauchy_data\u001b[0m \u001b[0;34m=\u001b[0m \u001b[0mdg\u001b[0m\u001b[0;34m.\u001b[0m\u001b[0mgenerate_cauchy_data\u001b[0m\u001b[0;34m(\u001b[0m\u001b[0;36m2\u001b[0m \u001b[0;34m*\u001b[0m \u001b[0mpi\u001b[0m\u001b[0;34m,\u001b[0m \u001b[0mdirection_angles\u001b[0m\u001b[0;34m,\u001b[0m \u001b[0mpermittivity\u001b[0m\u001b[0;34m)\u001b[0m\u001b[0;34m\u001b[0m\u001b[0;34m\u001b[0m\u001b[0m\n\u001b[0m",
      "\u001b[0;32m~/Workspace/work/multi-frequency-reconstruction/data_generator.py\u001b[0m in \u001b[0;36mgenerate_cauchy_data\u001b[0;34m(self, frequency, direction_angles, permittivity)\u001b[0m\n\u001b[1;32m    118\u001b[0m             \u001b[0mky\u001b[0m \u001b[0;34m=\u001b[0m \u001b[0mfrequency\u001b[0m \u001b[0;34m*\u001b[0m \u001b[0msin\u001b[0m\u001b[0;34m(\u001b[0m\u001b[0mangle\u001b[0m\u001b[0;34m)\u001b[0m\u001b[0;34m\u001b[0m\u001b[0;34m\u001b[0m\u001b[0m\n\u001b[1;32m    119\u001b[0m \u001b[0;34m\u001b[0m\u001b[0m\n\u001b[0;32m--> 120\u001b[0;31m             \u001b[0mu_scat\u001b[0m \u001b[0;34m=\u001b[0m \u001b[0mself\u001b[0m\u001b[0;34m.\u001b[0m\u001b[0msolve\u001b[0m\u001b[0;34m(\u001b[0m\u001b[0mkx\u001b[0m\u001b[0;34m,\u001b[0m \u001b[0mky\u001b[0m\u001b[0;34m,\u001b[0m \u001b[0mpermittivity\u001b[0m\u001b[0;34m)\u001b[0m\u001b[0;34m\u001b[0m\u001b[0;34m\u001b[0m\u001b[0m\n\u001b[0m\u001b[1;32m    121\u001b[0m \u001b[0;34m\u001b[0m\u001b[0m\n\u001b[1;32m    122\u001b[0m             \u001b[0mu_vals\u001b[0m \u001b[0;34m=\u001b[0m \u001b[0;34m[\u001b[0m\u001b[0mu_scat\u001b[0m\u001b[0;34m(\u001b[0m\u001b[0mself\u001b[0m\u001b[0;34m.\u001b[0m\u001b[0mmesh\u001b[0m\u001b[0;34m(\u001b[0m\u001b[0;34m*\u001b[0m\u001b[0mpt\u001b[0m\u001b[0;34m)\u001b[0m\u001b[0;34m)\u001b[0m \u001b[0;32mfor\u001b[0m \u001b[0mpt\u001b[0m \u001b[0;32min\u001b[0m \u001b[0mself\u001b[0m\u001b[0;34m.\u001b[0m\u001b[0mcauchy_points\u001b[0m\u001b[0;34m]\u001b[0m\u001b[0;34m\u001b[0m\u001b[0;34m\u001b[0m\u001b[0m\n",
      "\u001b[0;32m~/Workspace/work/multi-frequency-reconstruction/data_generator.py\u001b[0m in \u001b[0;36msolve\u001b[0;34m(self, inc_kx, inc_ky, permittivity)\u001b[0m\n\u001b[1;32m     74\u001b[0m \u001b[0;34m\u001b[0m\u001b[0m\n\u001b[1;32m     75\u001b[0m         \u001b[0mu_scat\u001b[0m \u001b[0;34m=\u001b[0m \u001b[0mGridFunction\u001b[0m\u001b[0;34m(\u001b[0m\u001b[0mself\u001b[0m\u001b[0;34m.\u001b[0m\u001b[0mfes\u001b[0m\u001b[0;34m)\u001b[0m\u001b[0;34m\u001b[0m\u001b[0;34m\u001b[0m\u001b[0m\n\u001b[0;32m---> 76\u001b[0;31m         u_scat.vec.data = a.mat.Inverse(freedofs=self.fes.FreeDofs(),\n\u001b[0m\u001b[1;32m     77\u001b[0m                                         inverse=\"sparsecholesky\") * linear_form.vec\n\u001b[1;32m     78\u001b[0m \u001b[0;34m\u001b[0m\u001b[0m\n",
      "\u001b[0;31mKeyboardInterrupt\u001b[0m: "
     ]
    }
   ],
   "source": [
    "direction_angles = np.linspace(0, 2 * np.pi, 32, endpoint=False)\n",
    "\n",
    "cauchy_data = dg.generate_cauchy_data(2 * pi, direction_angles, permittivity)"
   ]
  },
  {
   "cell_type": "code",
   "execution_count": null,
   "metadata": {},
   "outputs": [
    {
     "name": "stdout",
     "output_type": "stream",
     "text": [
      "Solving took 4.9415055809076875 seconds\n",
      "Solving took 4.728149355156347 seconds\n",
      "Solving took 4.69840709795244 seconds\n",
      "0 0 (-0.014520303344383027-0.019914493462974556j) (0.00737502119285764-9.269169733247973e-10j) (-0.02189532453724067-0.019914492536057583j)\n",
      "Solving took 4.695672995178029 seconds\n",
      "0 1 (0.01464560216727575+0.03404207568059099j) (0.06307755846370189-6.827303193073669e-10j) (-0.04843195629642614+0.03404207636332131j)\n"
     ]
    }
   ],
   "source": [
    "direction_angles = np.linspace(0, 2 * np.pi, 4, endpoint=False)\n",
    "\n",
    "A = Matrix(len(direction_angles) ** 2, dg.fes.ndof, complex=True)\n",
    "b = Vector(len(direction_angles) ** 2, complex=True)\n",
    "\n",
    "l = 0\n",
    "for i in range(4):\n",
    "\n",
    "    kx = 2 * pi * cos(direction_angles[i])\n",
    "    ky = 2 * pi * sin(direction_angles[i])\n",
    "\n",
    "    psi1 = CF((exp(1j * kx * x) * exp(1j * ky * y)))\n",
    "\n",
    "    u_scat = dg.solve(kx, ky, permittivity)\n",
    "    uB_scat0 = dg.solve(kx, ky, background_permittivity)\n",
    "\n",
    "    r_B = 1.5\n",
    "    theta_B = np.linspace(0, 2* pi, 361)[0:-1]\n",
    "\n",
    "    pts = [(r_B * cos(theta_B[i]), r_B * sin(theta_B[i])) for i in range(len(theta_B))]\n",
    "\n",
    "\n",
    "    u_scat_vals = [u_scat(dg.mesh(*pt)) for pt in pts]\n",
    "    grad_u_scat_vals = [ (grad(u_scat)(dg.mesh(*pt))[0] * pt[0] + grad(u_scat)(dg.mesh(*pt))[1] * pt[1]) / r_B for pt in pts ]\n",
    "\n",
    "\n",
    "    for j in range(4):\n",
    "        p_kx = 2 * pi * cos(direction_angles[j])\n",
    "        p_ky = 2 * pi * sin(direction_angles[j])\n",
    "\n",
    "        psi2 = CF((exp(1j * p_kx * x) * exp(1j * p_ky * y)))\n",
    "\n",
    "        uB_scat = dg.solve(p_kx, p_ky, background_permittivity)\n",
    "\n",
    "\n",
    "        # dg.save(u_scat, \"scatter\", \"data/scatter.mat\")\n",
    "        grad_uB_scat = grad(uB_scat)\n",
    "\n",
    "\n",
    "        uB_scat_vals = [uB_scat(dg.mesh(*pt)) for pt in pts]\n",
    "        grad_uB_scat_vals = [ (grad_uB_scat(dg.mesh(*pt))[0] * pt[0] + grad_uB_scat(dg.mesh(*pt))[1] * pt[1]) / r_B for pt in pts ]\n",
    "\n",
    "\n",
    "        # define domain B as a disk of radius 1.5\n",
    "        # generate Cauchy data\n",
    "\n",
    "        psi_test1 = CF((exp(1j * kx * x) * exp(1j * ky * y)))\n",
    "        grad_psi_test_X1 = psi_test1.Diff(x)\n",
    "        grad_psi_test_Y1 = psi_test1.Diff(y)\n",
    "\n",
    "        psi_vals1 = [psi_test1(dg.mesh(*pt)) for pt in pts]\n",
    "        grad_psi_vals1 = [ (grad_psi_test_X1(dg.mesh(*pt)) * pt[0] + grad_psi_test_Y1(dg.mesh(*pt)) * pt[1]) / r_B  for pt in pts ]\n",
    "\n",
    "\n",
    "\n",
    "        psi_test2 = CF((exp(1j * p_kx * x) * exp(1j * p_ky * y)))\n",
    "        grad_psi_test_X2 = psi_test2.Diff(x)\n",
    "        grad_psi_test_Y2 = psi_test2.Diff(y)\n",
    "\n",
    "        psi_vals2 = [psi_test2(dg.mesh(*pt)) for pt in pts]\n",
    "        grad_psi_vals2 = [ (grad_psi_test_X2(dg.mesh(*pt)) * pt[0] + grad_psi_test_Y2(dg.mesh(*pt)) * pt[1]) / r_B  for pt in pts ]\n",
    "\n",
    "\n",
    "        # s = sum( [grad_psi_vals[i] * uB_scat_vals[i] - grad_uB_scat_vals[i] * psi_vals[i] for i in range(len(pts))] ) * (2 * pi * r_B / len(pts) ) / (kx**2 + ky**2)\n",
    "\n",
    "        # print(s)\n",
    "\n",
    "        # s = sum( [(grad_uB_scat_vals[i] + grad_psi_vals2[i]) * (u_scat_vals[i]+ psi_vals1[i]) - (grad_u_scat_vals[i]+ grad_psi_vals1[i]) * (uB_scat_vals[i] + psi_vals2[i]) for i in range(len(pts))] ) * (2 * pi * r_B / len(pts) ) / (kx**2 + ky**2)\n",
    "\n",
    "\n",
    "\n",
    "\n",
    "        true_val = Integrate( (permittivity - background_permittivity) * (uB_scat + psi2) *  (u_scat + psi1), dg.mesh)\n",
    "        cur_val =  Integrate( (permittivity - background_permittivity) * (uB_scat + psi2) *  (uB_scat0 + psi1), dg.mesh)\n",
    "\n",
    "        print(i,j, true_val, cur_val, true_val - cur_val)\n",
    "\n",
    "        tmp = dg.fes.TrialFunction()\n",
    "        tmp2 = dg.fes.TestFunction()\n",
    "\n",
    "        linear_form = LinearForm(dg.fes)\n",
    "\n",
    "        linear_form += tmp2 * (uB_scat + psi2) *  (u_scat + psi1) * (IfPos((x)**2 + (y)**2 - (0.5) **2,\n",
    "                 0,\n",
    "                 1))  * dx\n",
    "\n",
    "        linear_form.Assemble()\n",
    "\n",
    "        A.NumPy()[l, :] = linear_form.vec.FV().NumPy()\n",
    "        b[l] = true_val\n",
    "        l += 1"
   ]
  },
  {
   "cell_type": "code",
   "execution_count": 34,
   "metadata": {},
   "outputs": [
    {
     "name": "stderr",
     "output_type": "stream",
     "text": [
      "/tmp/ipykernel_2136509/3633902184.py:3: FutureWarning: `rcond` parameter will change to the default of machine precision times ``max(M, N)`` where M and N are the input matrix dimensions.\n",
      "To use the future default and silence this warning we advise to pass `rcond=None`, to keep using the old, explicitly pass `rcond=-1`.\n",
      "  v = lstsq(A.NumPy(), b.NumPy())[0]\n"
     ]
    }
   ],
   "source": [
    "from numpy.linalg import lstsq\n",
    "\n",
    "v = lstsq(A.NumPy(), b.NumPy())[0]"
   ]
  },
  {
   "cell_type": "code",
   "execution_count": 56,
   "metadata": {},
   "outputs": [
    {
     "data": {
      "text/plain": [
       "array([-7.45931095e-17-6.93889390e-18j, -1.42247325e-16+0.00000000e+00j,\n",
       "       -2.77555756e-17+4.16333634e-17j,  1.73472348e-17-1.11022302e-16j,\n",
       "        1.49186219e-16+2.98372438e-16j, -8.67361738e-18+0.00000000e+00j,\n",
       "        1.38777878e-17-6.93889390e-17j,  2.74780199e-15+1.73472348e-15j,\n",
       "       -5.55111512e-16-3.19189120e-16j,  2.94902991e-17+2.77555756e-17j,\n",
       "        0.00000000e+00+1.73472348e-17j, -5.37764278e-17-1.31838984e-16j,\n",
       "        3.50414142e-16+7.21644966e-16j, -1.94289029e-16-5.55111512e-17j,\n",
       "       -3.64291930e-17-9.71445147e-17j, -8.15320034e-17-7.63278329e-17j])"
      ]
     },
     "execution_count": 56,
     "metadata": {},
     "output_type": "execute_result"
    }
   ],
   "source": []
  },
  {
   "cell_type": "code",
   "execution_count": 54,
   "metadata": {},
   "outputs": [
    {
     "data": {
      "application/vnd.jupyter.widget-view+json": {
       "model_id": "591f3c7d5db04471b9fdb085fbcbfbea",
       "version_major": 2,
       "version_minor": 0
      },
      "text/plain": [
       "WebGuiWidget(layout=Layout(height='3vh', width='100%'), value={'gui_settings': {'Complex': {'phase': 0.0, 'spe…"
      ]
     },
     "metadata": {},
     "output_type": "display_data"
    }
   ],
   "source": [
    "vec_v = Vector(v)\n",
    "\n",
    "u_scat_copy = u_scat\n",
    "\n",
    "u_scat_copy.vec.data = v\n",
    "\n",
    "scene = Draw(u_scat_copy, dg.mesh)\n",
    "clear_output() # redraw the scene with a new height\n",
    "scene.Draw(height=\"3vh\")\n"
   ]
  },
  {
   "cell_type": "code",
   "execution_count": 53,
   "metadata": {},
   "outputs": [],
   "source": [
    "\n",
    "u_scat_copy.vec.data = v"
   ]
  },
  {
   "cell_type": "code",
   "execution_count": 39,
   "metadata": {},
   "outputs": [
    {
     "data": {
      "text/plain": [
       "(5.227209923938116e-05+4.486618639898063e-05j)"
      ]
     },
     "execution_count": 39,
     "metadata": {},
     "output_type": "execute_result"
    }
   ],
   "source": []
  },
  {
   "cell_type": "code",
   "execution_count": 32,
   "metadata": {},
   "outputs": [
    {
     "data": {
      "text/plain": [
       "array([-0.02187535-0.01982756j,  0.        +0.j        ,\n",
       "        0.        +0.j        ,  0.        +0.j        ,\n",
       "        0.        +0.j        ,  0.        +0.j        ,\n",
       "        0.        +0.j        ,  0.        +0.j        ,\n",
       "        0.        +0.j        ,  0.        +0.j        ,\n",
       "        0.        +0.j        ,  0.        +0.j        ,\n",
       "        0.        +0.j        ,  0.        +0.j        ,\n",
       "        0.        +0.j        ,  0.        +0.j        ])"
      ]
     },
     "execution_count": 32,
     "metadata": {},
     "output_type": "execute_result"
    }
   ],
   "source": [
    "b.NumPy()"
   ]
  },
  {
   "cell_type": "code",
   "execution_count": 10,
   "metadata": {},
   "outputs": [
    {
     "name": "stdout",
     "output_type": "stream",
     "text": [
      "(-0.00534794670099449-0.016631727305240263j)\n"
     ]
    },
    {
     "data": {
      "text/plain": [
       "(-0.0049966245780328974+0.006142166691137205j)"
      ]
     },
     "execution_count": 10,
     "metadata": {},
     "output_type": "execute_result"
    }
   ],
   "source": [
    "r_B = 1.5\n",
    "theta_B = np.linspace(0, 2* pi, 1025)[0:-1]\n",
    "\n",
    "pts = [(r_B * cos(theta_B[i]), r_B * sin(theta_B[i])) for i in range(len(theta_B))]\n",
    "\n",
    "uB_scat_vals = [uB_scat(dg.mesh(*pt)) for pt in pts]\n",
    "grad_uB_scat_vals = [ (grad_uB_scat(dg.mesh(*pt))[0] * pt[0] + grad_uB_scat(dg.mesh(*pt))[1] * pt[1]) / r_B for pt in pts ]\n",
    "\n",
    "\n",
    "u_scat_vals = [u_scat(dg.mesh(*pt)) for pt in pts]\n",
    "grad_u_scat_vals = [ (grad(u_scat)(dg.mesh(*pt))[0] * pt[0] + grad(u_scat)(dg.mesh(*pt))[1] * pt[1]) / r_B for pt in pts ]\n",
    "\n",
    "# define the test function\n",
    "p_kx =  kx\n",
    "p_ky =  ky\n",
    "psi_test = CF((exp(1j * p_kx * x) * exp(1j * p_ky * y)))\n",
    "grad_psi_test_X = psi_test.Diff(x)\n",
    "grad_psi_test_Y = psi_test.Diff(y)\n",
    "\n",
    "psi_vals = [psi_test(dg.mesh(*pt)) for pt in pts]\n",
    "grad_psi_vals = [ (grad_psi_test_X(dg.mesh(*pt)) * pt[0] + grad_psi_test_Y(dg.mesh(*pt)) * pt[1]) / r_B  for pt in pts ]\n",
    "\n",
    "# s = sum( [grad_psi_vals[i] * uB_scat_vals[i] - grad_uB_scat_vals[i] * psi_vals[i] for i in range(len(pts))] ) * (2 * pi * r_B / len(pts) ) / (kx**2 + ky**2)\n",
    "\n",
    "# print(s)\n",
    "\n",
    "s = sum( [(grad_psi_vals[i] + grad_uB_scat_vals[i]) * (u_scat_vals[i]-uB_scat_vals[i]) - (grad_u_scat_vals[i]- grad_uB_scat_vals[i]) * (psi_vals[i]+uB_scat_vals[i]) for i in range(len(pts))] ) * (2 * pi * r_B / len(pts) ) / (kx**2 + ky**2)\n",
    "print(s)\n",
    "\n",
    "\n",
    "\n",
    "Integrate( -(permittivity - background_permittivity) * (uB_scat) *  (uB_scat), dg.mesh)\n",
    "\n",
    "# r_B = 1.5\n",
    "# theta_B = np.linspace(0, 2* pi, 1025)[0:-1]\n",
    "\n",
    "# pts = [(r_B * cos(theta_B[i]), r_B * sin(theta_B[i])) for i in range(len(theta_B))]\n",
    "\n",
    "# uB_scat_vals = [uB_scat(dg.mesh(*pt)) for pt in pts]\n",
    "# grad_uB_scat_vals = [ (grad_uB_scat(dg.mesh(*pt))[0] * pt[0] + grad_uB_scat(dg.mesh(*pt))[1] * pt[1]) / r_B for pt in pts ]\n",
    "\n",
    "\n",
    "# u_scat_vals = [u_scat(dg.mesh(*pt)) for pt in pts]\n",
    "# grad_u_scat_vals = [ (grad(u_scat)(dg.mesh(*pt))[0] * pt[0] + grad(u_scat)(dg.mesh(*pt))[1] * pt[1]) / r_B for pt in pts ]\n",
    "\n",
    "# # define the test function\n",
    "# p_kx =  0 * pi\n",
    "# p_ky =  8 * pi \n",
    "# psi_test = CF((exp(1j * p_kx * x) * exp(1j * p_ky * y)))\n",
    "# grad_psi_test_X = psi_test.Diff(x)\n",
    "# grad_psi_test_Y = psi_test.Diff(y)\n",
    "\n",
    "# psi_vals = [psi_test(dg.mesh(*pt)) for pt in pts]\n",
    "# grad_psi_vals = [ (grad_psi_test_X(dg.mesh(*pt)) * pt[0] + grad_psi_test_Y(dg.mesh(*pt)) * pt[1]) / r_B  for pt in pts ]\n",
    "\n",
    "# s = sum( [grad_psi_vals[i] * uB_scat_vals[i] - grad_uB_scat_vals[i] * psi_vals[i] for i in range(len(pts))] ) * (2 * pi * r_B / len(pts) ) / (kx**2 + ky**2)\n",
    "\n",
    "# print(s)\n",
    "\n",
    "# s = sum( [grad_psi_vals[i] * u_scat_vals[i] - grad_u_scat_vals[i] * psi_vals[i] for i in range(len(pts))] ) * (2 * pi * r_B / len(pts) ) / (kx**2 + ky**2)\n",
    "# print(s)"
   ]
  },
  {
   "cell_type": "code",
   "execution_count": 18,
   "metadata": {},
   "outputs": [
    {
     "data": {
      "application/vnd.jupyter.widget-view+json": {
       "model_id": "995bcc4885c44f2cab9d5458fc68e647",
       "version_major": 2,
       "version_minor": 0
      },
      "text/plain": [
       "WebGuiWidget(layout=Layout(height='3vh', width='100%'), value={'gui_settings': {}, 'ngsolve_version': '6.2.240…"
      ]
     },
     "metadata": {},
     "output_type": "display_data"
    }
   ],
   "source": [
    "scene = Draw(u_scat-uB_scat, dg.mesh)\n",
    "clear_output() # redraw the scene with a new height\n",
    "scene.Draw(height=\"3vh\")"
   ]
  },
  {
   "cell_type": "code",
   "execution_count": null,
   "metadata": {},
   "outputs": [],
   "source": []
  }
 ],
 "metadata": {
  "kernelspec": {
   "display_name": "base",
   "language": "python",
   "name": "python3"
  },
  "language_info": {
   "codemirror_mode": {
    "name": "ipython",
    "version": 3
   },
   "file_extension": ".py",
   "mimetype": "text/x-python",
   "name": "python",
   "nbconvert_exporter": "python",
   "pygments_lexer": "ipython3",
   "version": "3.9.13"
  }
 },
 "nbformat": 4,
 "nbformat_minor": 2
}
