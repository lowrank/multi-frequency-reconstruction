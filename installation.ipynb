{
 "cells": [
  {
   "cell_type": "code",
   "execution_count": null,
   "id": "e5b0d11f-9eec-4dcb-8da2-e78f539b1fb7",
   "metadata": {},
   "outputs": [],
   "source": [
    "!pip install -r requirements.txt"
   ]
  },
  {
   "cell_type": "code",
   "execution_count": null,
   "id": "2f4b1cce-88bf-4d4c-a568-506ba7c34ca8",
   "metadata": {},
   "outputs": [],
   "source": [
    "!pip3 install webgui_jupyter_widgets"
   ]
  },
  {
   "cell_type": "code",
   "execution_count": null,
   "id": "1d82d223-e9a9-42ff-8db6-ecd8dfab40fb",
   "metadata": {},
   "outputs": [],
   "source": [
    "!conda install -c conda-forge jupyter_contrib_nbextensions                        \n",
    "!jupyter contrib nbextension install --user "
   ]
  }
 ],
 "metadata": {
  "kernelspec": {
   "display_name": "Python 3 (ipykernel)",
   "language": "python",
   "name": "python3"
  },
  "language_info": {
   "codemirror_mode": {
    "name": "ipython",
    "version": 3
   },
   "file_extension": ".py",
   "mimetype": "text/x-python",
   "name": "python",
   "nbconvert_exporter": "python",
   "pygments_lexer": "ipython3",
   "version": "3.12.2"
  }
 },
 "nbformat": 4,
 "nbformat_minor": 5
}
