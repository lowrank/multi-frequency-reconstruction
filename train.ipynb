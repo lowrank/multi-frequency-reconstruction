{
 "cells": [
  {
   "cell_type": "code",
   "execution_count": null,
   "metadata": {},
   "outputs": [],
   "source": [
    "# Under construction.\n",
    "\n",
    "from IPython.display import clear_output\n",
    "from data_generator import DataGenerator\n",
    "from medium_generator import MediumGenerator, disk_func, cosine_func\n",
    "import numpy as np\n",
    "from numpy.linalg import lstsq\n",
    "from ngsolve import * \n",
    "from ngsolve.webgui import Draw\n",
    "\n",
    "dg = DataGenerator(maxh = (0.1, 0.3))\n",
    "\n",
    "medium = MediumGenerator(cosine_func) # MediumGenerator(disk_func)\n",
    "\n",
    "background_params = [{\"type\": 0, \"x\": 0.0, \"y\": 0.0, \"r\": 0.5, \"v\": 0.0}]\n",
    "background_permittivity = medium.generate(background_params)\n",
    "\n",
    "# create a sample with 4 bumps. \n",
    "\n",
    "params  = [{\"type\": 0, \"x\": 0.6 ,\"y\": 0.4, \"r\": 0.3, \"v\": 1}, \n",
    "           {\"type\": 0, \"x\": 0.7, \"y\": -0.6, \"r\": 0.3, \"v\": 1},\n",
    "           {\"type\": 0, \"x\": -0.8, \"y\": -0.3, \"r\": 0.3, \"v\": 1},\n",
    "           {\"type\": 0, \"x\": -0.5, \"y\": 0.5, \"r\": 0.3, \"v\": 1}]\n",
    "\n",
    "permittivity  = medium.generate(params)\n"
   ]
  }
 ],
 "metadata": {
  "kernelspec": {
   "display_name": "Python 3 (ipykernel)",
   "language": "python",
   "name": "python3"
  },
  "language_info": {
   "codemirror_mode": {
    "name": "ipython",
    "version": 3
   },
   "file_extension": ".py",
   "mimetype": "text/x-python",
   "name": "python",
   "nbconvert_exporter": "python",
   "pygments_lexer": "ipython3",
   "version": "3.12.2"
  }
 },
 "nbformat": 4,
 "nbformat_minor": 4
}
