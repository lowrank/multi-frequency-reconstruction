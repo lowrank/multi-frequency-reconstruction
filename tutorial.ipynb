{
 "cells": [
  {
   "cell_type": "code",
   "execution_count": 1,
   "id": "060ee14e-5afe-42f9-84c2-fcfc97d8525f",
   "metadata": {},
   "outputs": [],
   "source": [
    "from IPython.display import clear_output\n",
    "from data_generator import DataGenerator\n",
    "from medium_generator import MediumGenerator, disk_func, cosine_func\n",
    "import numpy as np\n",
    "from numpy.linalg import lstsq\n",
    "from ngsolve import * \n",
    "from ngsolve.webgui import Draw"
   ]
  },
  {
   "cell_type": "code",
   "execution_count": 15,
   "id": "dea42f5a-327e-43f3-b633-ab2615f8e1f7",
   "metadata": {},
   "outputs": [
    {
     "name": "stdout",
     "output_type": "stream",
     "text": [
      "Mesh generation took 0.7701156399853062 seconds\n"
     ]
    },
    {
     "data": {
      "application/vnd.jupyter.widget-view+json": {
       "model_id": "042e86c89b2447539a964f02679ac65d",
       "version_major": 2,
       "version_minor": 0
      },
      "text/plain": [
       "WebGuiWidget(layout=Layout(height='50vh', width='100%'), value={'gui_settings': {}, 'ngsolve_version': '6.2.24…"
      ]
     },
     "metadata": {},
     "output_type": "display_data"
    },
    {
     "data": {
      "text/plain": [
       "BaseWebGuiScene"
      ]
     },
     "execution_count": 15,
     "metadata": {},
     "output_type": "execute_result"
    }
   ],
   "source": [
    "# main functions are in data_generator.py\n",
    "\n",
    "# The domain discretization parameters can be made smaller \n",
    "# if higher accuracy is needed but takes significantly longer time to run\n",
    "# The mesh size must be smaller if the wave number is higher. \n",
    "# The following configuration should be OK for wave_num less than 10\n",
    "\n",
    "dg = DataGenerator(maxh = (0.05, 0.1)) \n",
    "medium = MediumGenerator(cosine_func) # it generates a medium permittivity q. There is another choice MediumGenerator(disk_func).\n",
    "\n",
    "background_params = [{\"type\": 0, \"x\": 0.0, \"y\": 0.0, \"r\": 0.5, \"v\": 0.0}]\n",
    "background_permittivity = medium.generate(background_params)\n",
    "\n",
    "params  = [{\"type\": 0, \"x\": 0.6 ,\"y\": 0.4, \"r\": 0.3, \"v\": 1}, \n",
    "           {\"type\": 0, \"x\": 0.7, \"y\": -0.6, \"r\": 0.3, \"v\": 1},\n",
    "           {\"type\": 0, \"x\": -0.8, \"y\": -0.3, \"r\": 0.3, \"v\": 1},\n",
    "           {\"type\": 0, \"x\": -0.5, \"y\": 0.5, \"r\": 0.3, \"v\": 1}]\n",
    "\n",
    "permittivity  = medium.generate(params) # it generates 4 bumps.\n",
    "\n",
    "Draw(permittivity, dg.mesh)"
   ]
  },
  {
   "cell_type": "code",
   "execution_count": 16,
   "id": "c9d2192f-302e-4afa-a2b7-759d907fc4b0",
   "metadata": {},
   "outputs": [
    {
     "name": "stdout",
     "output_type": "stream",
     "text": [
      "Solving took 0.7841427400126122 seconds\n"
     ]
    },
    {
     "data": {
      "application/vnd.jupyter.widget-view+json": {
       "model_id": "d54cd5b2530f494cb2e702fc9f5ac583",
       "version_major": 2,
       "version_minor": 0
      },
      "text/plain": [
       "WebGuiWidget(layout=Layout(height='50vh', width='100%'), value={'gui_settings': {'Complex': {'phase': 0.0, 'sp…"
      ]
     },
     "metadata": {},
     "output_type": "display_data"
    },
    {
     "data": {
      "text/plain": [
       "BaseWebGuiScene"
      ]
     },
     "execution_count": 16,
     "metadata": {},
     "output_type": "execute_result"
    }
   ],
   "source": [
    "inc_kx, inc_ky = 6, 8 # wave number = 10\n",
    "u_scat = dg.solve(inc_kx, inc_ky, permittivity) # scattered wave\n",
    "Draw(u_scat, dg.mesh)"
   ]
  },
  {
   "cell_type": "code",
   "execution_count": 17,
   "id": "0dfaa0df-951e-4282-bb7b-1ddfca2854ae",
   "metadata": {},
   "outputs": [
    {
     "name": "stdout",
     "output_type": "stream",
     "text": [
      "Solving took 0.7771746219950728 seconds\n",
      "Solving took 0.760659385996405 seconds\n",
      "Solving took 0.7588019579998218 seconds\n",
      "Solving took 0.7582232469867449 seconds\n",
      "Solving took 0.7608563909889199 seconds\n",
      "Solving took 0.7541863219812512 seconds\n",
      "Solving took 0.7499429710151162 seconds\n",
      "Solving took 0.7464525990071706 seconds\n",
      "Solving took 0.7391690409858711 seconds\n",
      "Solving took 0.7485475940047763 seconds\n",
      "Solving took 0.7464841789915226 seconds\n",
      "Solving took 0.7501399910252076 seconds\n",
      "Solving took 0.7478878340043593 seconds\n",
      "Solving took 0.7475820439867675 seconds\n",
      "Solving took 0.756950444978429 seconds\n",
      "Solving took 0.7536997800052632 seconds\n",
      "(16, 360) (16, 360)\n"
     ]
    }
   ],
   "source": [
    "wave_num = 10\n",
    "direction_angles = np.linspace(0, 2 * np.pi, 16, endpoint=False) # generate 16 directions of incident waves\n",
    "cauchy_data = dg.generate_cauchy_data(wave_num, direction_angles, permittivity) # wave number = 10\n",
    "\n",
    "print(cauchy_data[0].shape, cauchy_data[1].shape) # Dirichlet/Neumann data on 360 receivers"
   ]
  },
  {
   "cell_type": "code",
   "execution_count": 18,
   "id": "259e15fe-8d69-4917-ab10-fc05d618ab19",
   "metadata": {},
   "outputs": [
    {
     "name": "stdout",
     "output_type": "stream",
     "text": [
      "Solving took 0.7484664359944873 seconds\n",
      "Solving took 0.755588792002527 seconds\n",
      "(-5.337303822687638e-05+2.3169100221846394e-05j)\n"
     ]
    }
   ],
   "source": [
    "\"\"\"\n",
    "Now check Green's formula with the boundary integral. \n",
    "\n",
    "-Delta u_{tot, i} - k^2 q u_{tot, i} = 0\n",
    "-Delta u_{tot, j} - k^2 q u_{tot, j} = 0\n",
    "\n",
    "multiply 1st with u_{tot, j} and 2nd with u_{tot, i}\n",
    "\n",
    "int_{partial D} ( partial_n u_{tot, i} ) u_{tot, j} - (partial_n u_{tot, j}) u_{tot, i} = 0.\n",
    "\n",
    "or equivalently\n",
    "\n",
    "int_{partial D} ( partial_n u_{scat, i} ) u_{scat, j} - (partial_n u_{scat, j}) u_{scat, i} = 0.\n",
    "\n",
    "\"\"\"\n",
    "wave_num = 10\n",
    "i, j = 5, 12 \n",
    "\n",
    "inc_kx = wave_num * np.cos(direction_angles[i])\n",
    "inc_ky = wave_num * np.sin(direction_angles[i])\n",
    "\n",
    "u_scat_i = dg.solve(inc_kx, inc_ky, permittivity)\n",
    "u_inc_i = CF((exp(1j * inc_kx * x) * exp(1j * inc_ky * y)))\n",
    "\n",
    "inc_kx = wave_num * np.cos(direction_angles[j])\n",
    "inc_ky = wave_num * np.sin(direction_angles[j])\n",
    "\n",
    "u_scat_j = dg.solve(inc_kx, inc_ky, permittivity)\n",
    "u_inc_j = CF((exp(1j * inc_kx * x) * exp(1j * inc_ky * y)))\n",
    "\n",
    "LHS = np.sum( cauchy_data[1][i, :] * cauchy_data[0][j, :] - cauchy_data[1][j, :] * cauchy_data[0][i, :] ) / cauchy_data[0].shape[1] * 2 * np.pi * dg.cauchy_radius\n",
    "\n",
    "print(LHS)"
   ]
  },
  {
   "cell_type": "markdown",
   "id": "3e3eea71-cf42-40b6-8d0e-e395420f663a",
   "metadata": {},
   "source": [
    "# Source Problem\n",
    "\n",
    "The source problem is to find $f$ from the receiver data at the boundary. The equation is $-\\Delta u - k^2 q u = f(x)$ \n",
    "\n",
    "The Cauchy data $(u, \\partial_n u)$ is gathered at the boundary with different incident waves. \n",
    "\n",
    "For instance, if $f(x)$ consists of a bump, we can generate that by "
   ]
  },
  {
   "cell_type": "code",
   "execution_count": 6,
   "id": "4a3a6895-6efb-47e5-beab-dd19f26ee850",
   "metadata": {},
   "outputs": [
    {
     "data": {
      "application/vnd.jupyter.widget-view+json": {
       "model_id": "3e511efe524c4535b4714b9fe09ad214",
       "version_major": 2,
       "version_minor": 0
      },
      "text/plain": [
       "WebGuiWidget(layout=Layout(height='50vh', width='100%'), value={'gui_settings': {}, 'ngsolve_version': '6.2.24…"
      ]
     },
     "metadata": {},
     "output_type": "display_data"
    },
    {
     "data": {
      "text/plain": [
       "BaseWebGuiScene"
      ]
     },
     "execution_count": 6,
     "metadata": {},
     "output_type": "execute_result"
    }
   ],
   "source": [
    "source = MediumGenerator(cosine_func)\n",
    "\n",
    "source_params  = [{\"type\": 0, \"x\": 0.8 ,\"y\": 0.0, \"r\": 0.75, \"v\": 5}]\n",
    "\n",
    "f = source.generate(source_params) # it generates 4 bumps.\n",
    "Draw(f, dg.mesh)"
   ]
  },
  {
   "cell_type": "code",
   "execution_count": 7,
   "id": "9e2ba585-3759-42c2-bf6b-3eea008957b3",
   "metadata": {},
   "outputs": [
    {
     "name": "stdout",
     "output_type": "stream",
     "text": [
      "Solving took 0.1909101220080629 seconds\n",
      "Solving took 0.20031263801502064 seconds\n"
     ]
    },
    {
     "data": {
      "application/vnd.jupyter.widget-view+json": {
       "model_id": "d3fbc1f33b834533a80eb3789a2815d1",
       "version_major": 2,
       "version_minor": 0
      },
      "text/plain": [
       "WebGuiWidget(layout=Layout(height='50vh', width='100%'), value={'gui_settings': {'Complex': {'phase': 0.0, 'sp…"
      ]
     },
     "metadata": {},
     "output_type": "display_data"
    },
    {
     "data": {
      "application/vnd.jupyter.widget-view+json": {
       "model_id": "d6e2ef8d22824700aa41a05500af2fdf",
       "version_major": 2,
       "version_minor": 0
      },
      "text/plain": [
       "WebGuiWidget(layout=Layout(height='50vh', width='100%'), value={'gui_settings': {'Complex': {'phase': 0.0, 'sp…"
      ]
     },
     "metadata": {},
     "output_type": "display_data"
    },
    {
     "data": {
      "application/vnd.jupyter.widget-view+json": {
       "model_id": "ad97ff4194b84365b543d3a12a3dd6cb",
       "version_major": 2,
       "version_minor": 0
      },
      "text/plain": [
       "WebGuiWidget(layout=Layout(height='50vh', width='100%'), value={'gui_settings': {'Complex': {'phase': 0.0, 'sp…"
      ]
     },
     "metadata": {},
     "output_type": "display_data"
    },
    {
     "data": {
      "text/plain": [
       "BaseWebGuiScene"
      ]
     },
     "execution_count": 7,
     "metadata": {},
     "output_type": "execute_result"
    }
   ],
   "source": [
    "inc_kx, inc_ky = 8, 0 # wave number = 10\n",
    "u_scat_no_source = dg.solve(inc_kx, inc_ky, permittivity) # scattered wave, but with a source function\n",
    "u_scat_with_source = dg.solve(inc_kx, inc_ky, permittivity, f) # scattered wave, but with a source function, PML may not work very well in this case.\n",
    "Draw(u_scat_no_source, dg.mesh)\n",
    "Draw(u_scat_with_source, dg.mesh)\n",
    "Draw(u_scat_with_source - u_scat_no_source, dg.mesh)"
   ]
  },
  {
   "cell_type": "code",
   "execution_count": null,
   "id": "e9681088-9102-4127-84e0-2f0133ace4a3",
   "metadata": {},
   "outputs": [],
   "source": []
  },
  {
   "cell_type": "code",
   "execution_count": null,
   "id": "906fd875-b17f-49d9-ab4d-33d2dc12831d",
   "metadata": {},
   "outputs": [],
   "source": []
  },
  {
   "cell_type": "code",
   "execution_count": null,
   "id": "5197811c-2894-4713-9ee3-5dc2e6f7548a",
   "metadata": {},
   "outputs": [],
   "source": []
  },
  {
   "cell_type": "code",
   "execution_count": null,
   "id": "b2054e32-4db8-40d7-a0cb-95501124f07b",
   "metadata": {},
   "outputs": [],
   "source": []
  }
 ],
 "metadata": {
  "kernelspec": {
   "display_name": "Python 3 (ipykernel)",
   "language": "python",
   "name": "python3"
  },
  "language_info": {
   "codemirror_mode": {
    "name": "ipython",
    "version": 3
   },
   "file_extension": ".py",
   "mimetype": "text/x-python",
   "name": "python",
   "nbconvert_exporter": "python",
   "pygments_lexer": "ipython3",
   "version": "3.9.13"
  }
 },
 "nbformat": 4,
 "nbformat_minor": 5
}
