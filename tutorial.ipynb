{
 "cells": [
  {
   "cell_type": "code",
   "execution_count": 1,
   "id": "060ee14e-5afe-42f9-84c2-fcfc97d8525f",
   "metadata": {},
   "outputs": [],
   "source": [
    "from IPython.display import clear_output\n",
    "from data_generator import DataGenerator\n",
    "from medium_generator import MediumGenerator, disk_func, cosine_func\n",
    "import numpy as np\n",
    "from numpy.linalg import lstsq\n",
    "from ngsolve import * \n",
    "from ngsolve.webgui import Draw"
   ]
  },
  {
   "cell_type": "code",
   "execution_count": 2,
   "id": "dea42f5a-327e-43f3-b633-ab2615f8e1f7",
   "metadata": {},
   "outputs": [
    {
     "name": "stdout",
     "output_type": "stream",
     "text": [
      "Mesh generation took 0.1426902879611589 seconds\n"
     ]
    },
    {
     "data": {
      "application/vnd.jupyter.widget-view+json": {
       "model_id": "849b78e06a62413aa559df8f535d70bd",
       "version_major": 2,
       "version_minor": 0
      },
      "text/plain": [
       "WebGuiWidget(layout=Layout(height='50vh', width='100%'), value={'gui_settings': {}, 'ngsolve_version': '6.2.24…"
      ]
     },
     "metadata": {},
     "output_type": "display_data"
    },
    {
     "data": {
      "text/plain": [
       "BaseWebGuiScene"
      ]
     },
     "execution_count": 2,
     "metadata": {},
     "output_type": "execute_result"
    }
   ],
   "source": [
    "# main functions are in data_generator.py\n",
    "\n",
    "# The domain discretization parameters can be made smaller \n",
    "# if higher accuracy is needed but takes significantly longer time to run\n",
    "# The mesh size must be smaller if the wave number is higher. \n",
    "# The following configuration should be OK for wave_num less than 10\n",
    "\n",
    "dg = DataGenerator(maxh = (0.1, 0.2)) \n",
    "medium = MediumGenerator(cosine_func) # it generates a medium permittivity q. There is another choice MediumGenerator(disk_func).\n",
    "\n",
    "background_params = [{\"type\": 0, \"x\": 0.0, \"y\": 0.0, \"r\": 0.5, \"v\": 0.0}]\n",
    "background_permittivity = medium.generate(background_params)\n",
    "\n",
    "params  = [{\"type\": 0, \"x\": 0.6 ,\"y\": 0.4, \"r\": 0.3, \"v\": 1}, \n",
    "           {\"type\": 0, \"x\": 0.7, \"y\": -0.6, \"r\": 0.3, \"v\": 1},\n",
    "           {\"type\": 0, \"x\": -0.8, \"y\": -0.3, \"r\": 0.3, \"v\": 1},\n",
    "           {\"type\": 0, \"x\": -0.5, \"y\": 0.5, \"r\": 0.3, \"v\": 1}]\n",
    "\n",
    "permittivity  = medium.generate(params) # it generates 4 bumps.\n",
    "\n",
    "Draw(permittivity, dg.mesh)"
   ]
  },
  {
   "cell_type": "code",
   "execution_count": 3,
   "id": "c9d2192f-302e-4afa-a2b7-759d907fc4b0",
   "metadata": {},
   "outputs": [
    {
     "name": "stdout",
     "output_type": "stream",
     "text": [
      "Solving took 0.16292239999165758 seconds\n"
     ]
    },
    {
     "data": {
      "application/vnd.jupyter.widget-view+json": {
       "model_id": "a78e6f601c9140799961b9161e97ea0e",
       "version_major": 2,
       "version_minor": 0
      },
      "text/plain": [
       "WebGuiWidget(layout=Layout(height='50vh', width='100%'), value={'gui_settings': {'Complex': {'phase': 0.0, 'sp…"
      ]
     },
     "metadata": {},
     "output_type": "display_data"
    },
    {
     "data": {
      "text/plain": [
       "BaseWebGuiScene"
      ]
     },
     "execution_count": 3,
     "metadata": {},
     "output_type": "execute_result"
    }
   ],
   "source": [
    "inc_kx, inc_ky = 6, 8 # wave number = 10\n",
    "u_scat = dg.solve(inc_kx, inc_ky, permittivity) # scattered wave\n",
    "Draw(u_scat, dg.mesh)"
   ]
  },
  {
   "cell_type": "code",
   "execution_count": 4,
   "id": "0dfaa0df-951e-4282-bb7b-1ddfca2854ae",
   "metadata": {},
   "outputs": [
    {
     "name": "stdout",
     "output_type": "stream",
     "text": [
      "Solving took 0.14434957498451695 seconds\n",
      "Solving took 0.13450905797071755 seconds\n",
      "Solving took 0.13236802897881716 seconds\n",
      "Solving took 0.13174756499938667 seconds\n",
      "Solving took 0.13611812703311443 seconds\n",
      "Solving took 0.12887622200651094 seconds\n",
      "Solving took 0.13149415102088824 seconds\n",
      "Solving took 0.1412923900061287 seconds\n",
      "Solving took 0.13887087302282453 seconds\n",
      "Solving took 0.14123806497082114 seconds\n",
      "Solving took 0.1365637500421144 seconds\n",
      "Solving took 0.132687019999139 seconds\n",
      "Solving took 0.13259479799307883 seconds\n",
      "Solving took 0.130798285943456 seconds\n",
      "Solving took 0.13496567698894069 seconds\n",
      "Solving took 0.1406139949685894 seconds\n",
      "(16, 360) (16, 360)\n"
     ]
    }
   ],
   "source": [
    "wave_num = 10\n",
    "direction_angles = np.linspace(0, 2 * np.pi, 16, endpoint=False) # generate 16 directions of incident waves\n",
    "cauchy_data = dg.generate_cauchy_data(wave_num, direction_angles, permittivity) # wave number = 10\n",
    "\n",
    "print(cauchy_data[0].shape, cauchy_data[1].shape) # Dirichlet/Neumann data on 360 receivers"
   ]
  },
  {
   "cell_type": "code",
   "execution_count": 5,
   "id": "259e15fe-8d69-4917-ab10-fc05d618ab19",
   "metadata": {},
   "outputs": [
    {
     "name": "stdout",
     "output_type": "stream",
     "text": [
      "Solving took 0.1486183870001696 seconds\n",
      "Solving took 0.13708691799547523 seconds\n",
      "(-2.917394460024623e-05+5.8244010892389306e-05j)\n"
     ]
    }
   ],
   "source": [
    "\"\"\"\n",
    "Now check Green's formula with the boundary integral. \n",
    "\n",
    "-Delta u_{tot, i} - k^2 q u_{tot, i} = 0\n",
    "-Delta u_{tot, j} - k^2 q u_{tot, j} = 0\n",
    "\n",
    "multiply 1st with u_{tot, j} and 2nd with u_{tot, i}\n",
    "\n",
    "int_{partial D} ( partial_n u_{tot, i} ) u_{tot, j} - (partial_n u_{tot, j}) u_{tot, i} = 0.\n",
    "\n",
    "or equivalently\n",
    "\n",
    "int_{partial D} ( partial_n u_{scat, i} ) u_{scat, j} - (partial_n u_{scat, j}) u_{scat, i} = 0.\n",
    "\n",
    "\"\"\"\n",
    "wave_num = 10\n",
    "i, j = 5, 12 \n",
    "\n",
    "inc_kx = wave_num * np.cos(direction_angles[i])\n",
    "inc_ky = wave_num * np.sin(direction_angles[i])\n",
    "\n",
    "u_scat_i = dg.solve(inc_kx, inc_ky, permittivity)\n",
    "u_inc_i = CF((exp(1j * inc_kx * x) * exp(1j * inc_ky * y)))\n",
    "\n",
    "inc_kx = wave_num * np.cos(direction_angles[j])\n",
    "inc_ky = wave_num * np.sin(direction_angles[j])\n",
    "\n",
    "u_scat_j = dg.solve(inc_kx, inc_ky, permittivity)\n",
    "u_inc_j = CF((exp(1j * inc_kx * x) * exp(1j * inc_ky * y)))\n",
    "\n",
    "LHS = np.sum( cauchy_data[1][i, :] * cauchy_data[0][j, :] - cauchy_data[1][j, :] * cauchy_data[0][i, :] ) / cauchy_data[0].shape[1] * 2 * np.pi * dg.cauchy_radius\n",
    "\n",
    "print(LHS)"
   ]
  }
 ],
 "metadata": {
  "kernelspec": {
   "display_name": "Python 3 (ipykernel)",
   "language": "python",
   "name": "python3"
  },
  "language_info": {
   "codemirror_mode": {
    "name": "ipython",
    "version": 3
   },
   "file_extension": ".py",
   "mimetype": "text/x-python",
   "name": "python",
   "nbconvert_exporter": "python",
   "pygments_lexer": "ipython3",
   "version": "3.12.2"
  }
 },
 "nbformat": 4,
 "nbformat_minor": 5
}
